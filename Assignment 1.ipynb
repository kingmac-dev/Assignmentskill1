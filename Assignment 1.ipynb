{
 "cells": [
  {
   "cell_type": "markdown",
   "id": "06af8f27-77e3-42fa-9510-6915cf3af062",
   "metadata": {},
   "source": [
    "# ASSIGNMENT 1 :-"
   ]
  },
  {
   "cell_type": "code",
   "execution_count": null,
   "id": "5c8a2f81-b3b7-4c7e-9b9c-c235b3b81bda",
   "metadata": {},
   "outputs": [],
   "source": [
    "#Question 1 :  Write all the conventions being followed while declaring a variable."
   ]
  },
  {
   "cell_type": "markdown",
   "id": "13c67380-ad68-4347-898f-308ae88ceac9",
   "metadata": {
    "tags": []
   },
   "source": [
    "Answer 1 :- \n",
    "\n",
    "The conventions being followed while declaring a variable are as follows\n",
    "\n",
    " Variable names must begin with a letter, underscore, or non-number character.\n",
    " Variable names should be in lowercase, with words separated by underscores as necessary to improve readability.\n",
    " Variable names follow the same convention as function names.\n",
    " Variable names are case-sensitive. \n",
    " MixedCase is allowed only in contexts where that’s already the prevailing style (e.g. threading.py), to retain backwards compatibility.\n",
    "  In Python, variable names follow the snake_case naming convention as per the PEP8 style guide. This means that all words in the name are in lowercase, and each word is separated by an underscore.\n",
    "\n",
    "Here are some examples of good variable names in Python:\n",
    "\n",
    "total_sales\n",
    "product_name\n",
    "customer_id\n",
    "PI\n",
    "Dog\n",
    "my_function\n",
    "\n",
    "Here are some examples of bad variable names in Python:\n",
    "\n",
    "x\n",
    "abc123\n",
    "this_is_a_very_long_variable_name\n",
    "PI_CONSTANT\n",
    "classDog\n",
    "defmy_function()"
   ]
  },
  {
   "cell_type": "code",
   "execution_count": null,
   "id": "4203c2e6-b08b-4056-b56f-7b49f361aa5d",
   "metadata": {},
   "outputs": [],
   "source": [
    " #Question 2 :-What will happen if we declare a restricted keyword as a variable?"
   ]
  },
  {
   "cell_type": "markdown",
   "id": "c5424091-09a1-43e4-8d7b-c15ed59c4000",
   "metadata": {},
   "source": [
    " Answer 2 :- \n",
    " \n",
    " In Python, you cannot use a keyword as a variable name, function name, or any other identifier1. Keywords are reserved words that have a specific meaning in the language and are used to define the syntax and structure of the Python language1. If you try to use a keyword as a variable name, you will get a syntax error. For example, if you try to use the keyword if as a variable name like this:\n"
   ]
  },
  {
   "cell_type": "code",
   "execution_count": 6,
   "id": "c123b597-c2bf-48e6-a518-6d513fcb6f67",
   "metadata": {},
   "outputs": [],
   "source": [
    "if=3"
   ]
  },
  {
   "cell_type": "code",
   "execution_count": 8,
   "id": "de450541-b1a8-4474-8e7f-bf139c4108c7",
   "metadata": {},
   "outputs": [
    {
     "ename": "SyntaxError",
     "evalue": "invalid syntax (4110802630.py, line 1)",
     "output_type": "error",
     "traceback": [
      "\u001b[0;36m  Cell \u001b[0;32mIn[8], line 1\u001b[0;36m\u001b[0m\n\u001b[0;31m    if\u001b[0m\n\u001b[0m      ^\u001b[0m\n\u001b[0;31mSyntaxError\u001b[0m\u001b[0;31m:\u001b[0m invalid syntax\n"
     ]
    }
   ],
   "source": [
    "if"
   ]
  },
  {
   "cell_type": "markdown",
   "id": "17f14953-016c-437e-aa88-02e34fae5f7b",
   "metadata": {},
   "source": [
    "We will get an SyntaxError."
   ]
  },
  {
   "cell_type": "markdown",
   "id": "cd120c94-6087-4177-b405-9a636f94a88e",
   "metadata": {},
   "source": [
    "more examples are as follows :-\n",
    "\n",
    "\n",
    "list of some keywords in Python .\n",
    "\n",
    "False      await      else       import     pass\n",
    "None       break      except     in         raise\n",
    "True       class      finally    is         return\n",
    "and        continue   for        lambda     try\n",
    "as         def        from       nonlocal   while\n",
    "assert     del        global     not        with\n",
    "async      elif       if         or         yield\n",
    "\n",
    "\n",
    "Note : Keywords may change in different versions of Python."
   ]
  },
  {
   "cell_type": "code",
   "execution_count": null,
   "id": "a4b0ed12-346d-42e3-97d1-afe28b6a1727",
   "metadata": {},
   "outputs": [],
   "source": [
    " #Question 3 :- Can we actually declare a string as a variable name?"
   ]
  },
  {
   "cell_type": "markdown",
   "id": "1f554330-7db2-437b-bf37-13be85f30549",
   "metadata": {},
   "source": [
    "Answer 3 :- \n",
    "\n",
    "No, you cannot declare a string as a variable name in Python. Variable names in Python must start with a letter or an underscore, and they can only contain letters, numbers, and underscores. Strings, on the other hand, can contain any character, including spaces.\n",
    "\n",
    "\n",
    "\n",
    "However, there are a few ways to get around this limitation. One way is to use the globals() or locals() functions to get the current symbol table. You can then add the string to the symbol table as a variable name. For example:\n"
   ]
  },
  {
   "cell_type": "code",
   "execution_count": 2,
   "id": "b699358f-9604-4d17-bb0e-05b28beed55a",
   "metadata": {},
   "outputs": [],
   "source": [
    "name = \"Shivansh Dhawan\""
   ]
  },
  {
   "cell_type": "code",
   "execution_count": 3,
   "id": "2c2327ce-9080-479f-bb14-f70ec2634d97",
   "metadata": {},
   "outputs": [
    {
     "data": {
      "text/plain": [
       "'Shivansh Dhawan'"
      ]
     },
     "execution_count": 3,
     "metadata": {},
     "output_type": "execute_result"
    }
   ],
   "source": [
    "name"
   ]
  },
  {
   "cell_type": "code",
   "execution_count": 4,
   "id": "b451d51f-8230-4c4e-a175-e1aa66906930",
   "metadata": {},
   "outputs": [
    {
     "ename": "SyntaxError",
     "evalue": "cannot assign to literal here. Maybe you meant '==' instead of '='? (33637778.py, line 2)",
     "output_type": "error",
     "traceback": [
      "\u001b[0;36m  Cell \u001b[0;32mIn[4], line 2\u001b[0;36m\u001b[0m\n\u001b[0;31m    \"name\"=\"shivansh Dhawan\"\u001b[0m\n\u001b[0m    ^\u001b[0m\n\u001b[0;31mSyntaxError\u001b[0m\u001b[0;31m:\u001b[0m cannot assign to literal here. Maybe you meant '==' instead of '='?\n"
     ]
    }
   ],
   "source": [
    "#But this code won't valid\n",
    "\"name\"=\"shivansh Dhawan\""
   ]
  },
  {
   "cell_type": "markdown",
   "id": "1a73ef23-46ab-4693-9ffc-7ce00f97ecb8",
   "metadata": {},
   "source": [
    "This code will give you an error message saying that \"name\" is not a valid identifier.\n",
    "\n",
    "However, there are a few ways to get around this limitation. One way is to use the globals() or locals() functions to get the current symbol table. You can then add the string to the symbol table as a variable name. For example:"
   ]
  },
  {
   "cell_type": "code",
   "execution_count": 5,
   "id": "a8546f9d-17bc-48d3-9e89-0c7e8a4bad3a",
   "metadata": {},
   "outputs": [
    {
     "name": "stdout",
     "output_type": "stream",
     "text": [
      "Shivansh Dhawan\n"
     ]
    }
   ],
   "source": [
    "name = \"Shivansh Dhawan\"\n",
    "\n",
    "globals()[\"name\"] = \"Shivansh Dhawan\"\n",
    "\n",
    "print(name)\n"
   ]
  },
  {
   "cell_type": "code",
   "execution_count": 8,
   "id": "3e8f5b9f-76bf-4a96-a74c-4f1d7ec9ec89",
   "metadata": {},
   "outputs": [],
   "source": [
    "#Question 4 :-Is it possible for us to declare “_” as a variable? If so, then write an example of it."
   ]
  },
  {
   "cell_type": "markdown",
   "id": "814e9ba4-719f-4c85-a611-d49e9b2d6cc0",
   "metadata": {},
   "source": [
    "Answer 4 :- \n",
    "\n",
    "Yes, it is possible to declare _ as a variable in Python. Here is an example:"
   ]
  },
  {
   "cell_type": "code",
   "execution_count": 1,
   "id": "ca02bb87-5a89-484a-988c-8d76c71a745c",
   "metadata": {},
   "outputs": [],
   "source": [
    "_=5"
   ]
  },
  {
   "cell_type": "code",
   "execution_count": 2,
   "id": "e3e70fac-508a-42a6-aa74-6f0b23c6289c",
   "metadata": {},
   "outputs": [
    {
     "name": "stdout",
     "output_type": "stream",
     "text": [
      "5\n"
     ]
    }
   ],
   "source": [
    "print(_)"
   ]
  },
  {
   "cell_type": "markdown",
   "id": "8fe131f4-ef20-4c91-951e-83fb8bd1fa6c",
   "metadata": {},
   "source": [
    "This code will output 5.\n",
    "However, it is important to note that _ is commonly used as a throwaway variable in Python, meaning that its value is not intended to be used later in the code. For example, when unpacking a tuple, you might use _ to represent a value that you don’t care about:"
   ]
  },
  {
   "cell_type": "code",
   "execution_count": 3,
   "id": "a998b3db-fd6b-43b5-b5b7-29ae8f5a71c9",
   "metadata": {},
   "outputs": [
    {
     "name": "stdout",
     "output_type": "stream",
     "text": [
      "1\n",
      "3\n"
     ]
    }
   ],
   "source": [
    "x, _, z = (1, 2, 3)\n",
    "print(x)\n",
    "print(z)\n"
   ]
  },
  {
   "cell_type": "markdown",
   "id": "bb945123-07af-41f6-bd9e-a9c5e16bb5cc",
   "metadata": {},
   "source": [
    "So while it is possible to use _ as a variable, it is generally not recommended as it can lead to confusion and unexpected behavior."
   ]
  },
  {
   "cell_type": "code",
   "execution_count": 4,
   "id": "a1dc4436-40d5-4ada-a89d-5aa7eee6290a",
   "metadata": {},
   "outputs": [],
   "source": [
    "#question 5 :- Using an example, explain how the variables in python are dynamic in nature."
   ]
  },
  {
   "cell_type": "markdown",
   "id": "8d03109e-2183-4672-a61f-6bc1ac1dbbed",
   "metadata": {},
   "source": [
    "Variables in Python are dynamic in nature, which means that their type can change during the course of the program. This is in contrast to statically typed languages, where the type of a variable is fixed when it is declared.\n",
    "\n",
    "For example, let's say we have the following code:"
   ]
  },
  {
   "cell_type": "code",
   "execution_count": 5,
   "id": "e2c92af5-106e-4966-9461-d49e00c20f4d",
   "metadata": {},
   "outputs": [
    {
     "name": "stdout",
     "output_type": "stream",
     "text": [
      "<class 'str'>\n",
      "<class 'int'>\n"
     ]
    }
   ],
   "source": [
    "name = \"John Doe\"\n",
    "age = 30\n",
    "\n",
    "print(type(name))\n",
    "print(type(age))\n"
   ]
  },
  {
   "cell_type": "markdown",
   "id": "7f9ad310-fb89-4c87-993b-a72d15547558",
   "metadata": {},
   "source": [
    "As you can see, the variable name is of type str and the variable age is of type int. This is because we explicitly declared their types when we created them.\n",
    "\n",
    "Now, let's say we add the following line of code to our program:"
   ]
  },
  {
   "cell_type": "code",
   "execution_count": 6,
   "id": "ecfe0fb4-3448-43f9-bdd1-613fa62af6d7",
   "metadata": {},
   "outputs": [],
   "source": [
    "name = 10\n"
   ]
  },
  {
   "cell_type": "code",
   "execution_count": 7,
   "id": "6fdca2ac-2bae-42eb-a37a-5e086e448330",
   "metadata": {},
   "outputs": [
    {
     "name": "stdout",
     "output_type": "stream",
     "text": [
      "<class 'int'>\n",
      "<class 'int'>\n"
     ]
    }
   ],
   "source": [
    "print(type(name))\n",
    "print(type(age))"
   ]
  },
  {
   "cell_type": "markdown",
   "id": "0ce518c4-1bb7-40e6-8287-6ac66ffc7872",
   "metadata": {},
   "source": [
    "As you can see, the type of the variable name has changed from str to int. This is because the value of the variable has changed.\n",
    "\n",
    "This is just one example of how variables in Python are dynamic in nature. In Python, the type of a variable is not fixed, but can change during the course of the program. This can be a powerful feature, but it can also be a source of errors if not used carefully."
   ]
  },
  {
   "cell_type": "markdown",
   "id": "5302c961-37a8-43e0-a718-c82cde62bbd1",
   "metadata": {},
   "source": [
    "Here are some additional things to keep in mind about dynamic variables in Python:\n",
    "\n",
    "The type of a variable is not checked at compile time, but only at runtime. This means that you can assign a value of one type to a variable of another type, and the program will still run. However, this can lead to errors if you are not careful.\n",
    "\n",
    "The type of a variable can be inferred from the value that is assigned to it. This means that you do not always have to explicitly declare the type of a variable when you create it. However, it is a good practice to do so, as it can help to prevent errors.\n",
    "\n",
    "You can use the type() function to get the type of a variable. This can be useful for debugging or for ensuring that the types of your variables are correct."
   ]
  }
 ],
 "metadata": {
  "kernelspec": {
   "display_name": "Python 3 (ipykernel)",
   "language": "python",
   "name": "python3"
  },
  "language_info": {
   "codemirror_mode": {
    "name": "ipython",
    "version": 3
   },
   "file_extension": ".py",
   "mimetype": "text/x-python",
   "name": "python",
   "nbconvert_exporter": "python",
   "pygments_lexer": "ipython3",
   "version": "3.10.8"
  }
 },
 "nbformat": 4,
 "nbformat_minor": 5
}
